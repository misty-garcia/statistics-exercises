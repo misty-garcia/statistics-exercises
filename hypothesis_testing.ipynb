{
 "cells": [
  {
   "cell_type": "markdown",
   "metadata": {},
   "source": [
    "#### For each of the following questions, formulate a null and alternative hypothesis (be as specific as you can be), then give an example of what a true positive, true negative, type I and type II errors would look like."
   ]
  },
  {
   "cell_type": "markdown",
   "metadata": {},
   "source": [
    "<b>Is the website redesign any good?</b>\n",
    "\n",
    "rephrase to testable hypothesis: \n",
    "- Does the redesigned website have a higer click rate than before, which was 5%? \n",
    "\n",
    "null hypothesis: \n",
    "- The redesigned website has the same click rate as before, which was 5%.\n",
    "\n",
    "alternative hypothesis:\n",
    "- The redesigned website does not have a click rate of 5%\n",
    "\n",
    "true positive: (reject the null hypothesis and the null hypothesis is false)\n",
    "- the click rate isn't 5% (and it's not)\n",
    "\n",
    "true negative: (fail to reject the null hypothesis and the null hypothesis is true)\n",
    "- the click rate is 5% (and it is)\n",
    "\n",
    "type 1 error: (reject the null hypothesis and the the null hypothesis is true)\n",
    "- the click rate is not 5% (but it is) \n",
    "\n",
    "type 2 error: (accept the null hypothesis and the null hypothesis is false)\n",
    "- the click rate is 5% (but it's not)"
   ]
  },
  {
   "cell_type": "markdown",
   "metadata": {},
   "source": [
    "<b>Is our television ad driving more sales?</b>\n",
    "\n",
    "rephrase to testable hypothesis: \n",
    "- Have our sales increased due to the recent television ads? \n",
    "\n",
    "null hypothesis: \n",
    "- Our sales have not increased due to television ads. \n",
    "\n",
    "alternative hypothesis:\n",
    "- Our sales have increased due to television ads. \n",
    "\n",
    "true positive: (reject the null hypothesis and the null hypothesis is false)\n",
    "- Our sales have increased due to television ads (and they have increased)\n",
    "\n",
    "true negative: (fail to reject the null hypothesis and the null hypothesis is true)\n",
    "- Our sales have not increased due to television ads (and they haven't increased)\n",
    "\n",
    "type 1 error: (reject the null hypothesis and the the null hypothesis is true)\n",
    "- Our sales have increased due to television ads (but they haven't increased!)\n",
    "\n",
    "type 2 error: (accept the null hypothesis and the null hypothesis is false)\n",
    "- Our sales have not increased due to television ads (but they have increased!)"
   ]
  },
  {
   "cell_type": "markdown",
   "metadata": {},
   "source": [
    "<b>Has the network latency gone up since we switched internet service providers?</b>\n",
    "\n",
    "rephrase to testable hypothesis: \n",
    "- Has the network latency increased with new internet provider?\n",
    "\n",
    "null hypothesis: \n",
    "- The network latency was not improved since we switched providers\n",
    "\n",
    "alternative hypothesis:\n",
    "- The network latency has improved since we switched providers\n",
    "\n",
    "true positive: (reject the null hypothesis and the null hypothesis is false)\n",
    "- the network latency has improved (and it has)\n",
    "\n",
    "true negative: (fail to reject the null hypothesis and the null hypothesis is true)\n",
    "- the network latency has not improved (and it hasn't)\n",
    "\n",
    "type 1 error: (reject the null hypothesis and the the null hypothesis is true)\n",
    "- the network latency has improved (and it hasn't)\n",
    "\n",
    "type 2 error: (accept the null hypothesis and the null hypothesis is false)\n",
    "- the network latency has not improved (and it has)"
   ]
  },
  {
   "cell_type": "markdown",
   "metadata": {},
   "source": [
    "#### Ace Realty wants to determine whether the average time it takes to sell homes is different for its two offices. A sample of 40 sales from office #1 revealed a mean of 90 days and a standard deviation of 15 days. A sample of 50 sales from office #2 revealed a mean of 100 days and a standard deviation of 20 days. Use a .05 level of significance."
   ]
  },
  {
   "cell_type": "code",
   "execution_count": 31,
   "metadata": {},
   "outputs": [],
   "source": [
    "from math import sqrt\n",
    "from scipy import stats\n",
    "\n",
    "office1_n = 40\n",
    "office1_mean = 90\n",
    "office1_sd = 15\n",
    "office2_n = 50\n",
    "office2_mean = 100\n",
    "office2_sd = 20"
   ]
  },
  {
   "cell_type": "code",
   "execution_count": 32,
   "metadata": {},
   "outputs": [
    {
     "data": {
      "text/plain": [
       "-1.1526786659641493"
      ]
     },
     "execution_count": 32,
     "metadata": {},
     "output_type": "execute_result"
    }
   ],
   "source": [
    "t = (office1_mean - office2_mean) / (office1_sd - math.sqrt(office1_n))\n",
    "t"
   ]
  },
  {
   "cell_type": "code",
   "execution_count": 33,
   "metadata": {},
   "outputs": [
    {
     "data": {
      "text/plain": [
       "0.25605872029944227"
      ]
     },
     "execution_count": 33,
     "metadata": {},
     "output_type": "execute_result"
    }
   ],
   "source": [
    "p = stats.t(office1_n - 1).cdf(t) * 2\n",
    "p"
   ]
  },
  {
   "cell_type": "code",
   "execution_count": 142,
   "metadata": {},
   "outputs": [
    {
     "name": "stdout",
     "output_type": "stream",
     "text": [
      "the p value is greater than alpha, therefore, we fail to reject the null hypothesis\n"
     ]
    }
   ],
   "source": [
    "print(\"the p value is greater than alpha, therefore, we fail to reject the null hypothesis\")"
   ]
  },
  {
   "cell_type": "markdown",
   "metadata": {},
   "source": [
    "#### Load the mpg dataset and use it to answer the following questions:"
   ]
  },
  {
   "cell_type": "code",
   "execution_count": 87,
   "metadata": {},
   "outputs": [
    {
     "data": {
      "text/html": [
       "<div>\n",
       "<style scoped>\n",
       "    .dataframe tbody tr th:only-of-type {\n",
       "        vertical-align: middle;\n",
       "    }\n",
       "\n",
       "    .dataframe tbody tr th {\n",
       "        vertical-align: top;\n",
       "    }\n",
       "\n",
       "    .dataframe thead th {\n",
       "        text-align: right;\n",
       "    }\n",
       "</style>\n",
       "<table border=\"1\" class=\"dataframe\">\n",
       "  <thead>\n",
       "    <tr style=\"text-align: right;\">\n",
       "      <th></th>\n",
       "      <th>manufacturer</th>\n",
       "      <th>model</th>\n",
       "      <th>displ</th>\n",
       "      <th>year</th>\n",
       "      <th>cyl</th>\n",
       "      <th>trans</th>\n",
       "      <th>drv</th>\n",
       "      <th>cty</th>\n",
       "      <th>hwy</th>\n",
       "      <th>fl</th>\n",
       "      <th>class</th>\n",
       "    </tr>\n",
       "  </thead>\n",
       "  <tbody>\n",
       "    <tr>\n",
       "      <th>1</th>\n",
       "      <td>audi</td>\n",
       "      <td>a4</td>\n",
       "      <td>1.8</td>\n",
       "      <td>1999</td>\n",
       "      <td>4</td>\n",
       "      <td>auto(l5)</td>\n",
       "      <td>f</td>\n",
       "      <td>18</td>\n",
       "      <td>29</td>\n",
       "      <td>p</td>\n",
       "      <td>compact</td>\n",
       "    </tr>\n",
       "    <tr>\n",
       "      <th>2</th>\n",
       "      <td>audi</td>\n",
       "      <td>a4</td>\n",
       "      <td>1.8</td>\n",
       "      <td>1999</td>\n",
       "      <td>4</td>\n",
       "      <td>manual(m5)</td>\n",
       "      <td>f</td>\n",
       "      <td>21</td>\n",
       "      <td>29</td>\n",
       "      <td>p</td>\n",
       "      <td>compact</td>\n",
       "    </tr>\n",
       "    <tr>\n",
       "      <th>3</th>\n",
       "      <td>audi</td>\n",
       "      <td>a4</td>\n",
       "      <td>2.0</td>\n",
       "      <td>2008</td>\n",
       "      <td>4</td>\n",
       "      <td>manual(m6)</td>\n",
       "      <td>f</td>\n",
       "      <td>20</td>\n",
       "      <td>31</td>\n",
       "      <td>p</td>\n",
       "      <td>compact</td>\n",
       "    </tr>\n",
       "    <tr>\n",
       "      <th>4</th>\n",
       "      <td>audi</td>\n",
       "      <td>a4</td>\n",
       "      <td>2.0</td>\n",
       "      <td>2008</td>\n",
       "      <td>4</td>\n",
       "      <td>auto(av)</td>\n",
       "      <td>f</td>\n",
       "      <td>21</td>\n",
       "      <td>30</td>\n",
       "      <td>p</td>\n",
       "      <td>compact</td>\n",
       "    </tr>\n",
       "    <tr>\n",
       "      <th>5</th>\n",
       "      <td>audi</td>\n",
       "      <td>a4</td>\n",
       "      <td>2.8</td>\n",
       "      <td>1999</td>\n",
       "      <td>6</td>\n",
       "      <td>auto(l5)</td>\n",
       "      <td>f</td>\n",
       "      <td>16</td>\n",
       "      <td>26</td>\n",
       "      <td>p</td>\n",
       "      <td>compact</td>\n",
       "    </tr>\n",
       "  </tbody>\n",
       "</table>\n",
       "</div>"
      ],
      "text/plain": [
       "  manufacturer model  displ  year  cyl       trans drv  cty  hwy fl    class\n",
       "1         audi    a4    1.8  1999    4    auto(l5)   f   18   29  p  compact\n",
       "2         audi    a4    1.8  1999    4  manual(m5)   f   21   29  p  compact\n",
       "3         audi    a4    2.0  2008    4  manual(m6)   f   20   31  p  compact\n",
       "4         audi    a4    2.0  2008    4    auto(av)   f   21   30  p  compact\n",
       "5         audi    a4    2.8  1999    6    auto(l5)   f   16   26  p  compact"
      ]
     },
     "execution_count": 87,
     "metadata": {},
     "output_type": "execute_result"
    }
   ],
   "source": [
    "from pydataset import data\n",
    "import pandas as pd\n",
    "\n",
    "mpg = data('mpg')\n",
    "mpg.head()"
   ]
  },
  {
   "cell_type": "markdown",
   "metadata": {},
   "source": [
    "Is there a difference in fuel-efficiency in cars from 2008 vs 1999?"
   ]
  },
  {
   "cell_type": "markdown",
   "metadata": {},
   "source": [
    "> H0: there is no difference in fuel-efficiency cars"
   ]
  },
  {
   "cell_type": "code",
   "execution_count": 98,
   "metadata": {},
   "outputs": [
    {
     "data": {
      "text/plain": [
       "Ttest_indResult(statistic=2.088197952163284, pvalue=0.07021454842002324)"
      ]
     },
     "execution_count": 98,
     "metadata": {},
     "output_type": "execute_result"
    }
   ],
   "source": [
    "mpg[\"avg_mpg\"] = (mpg.cty + mpg.hwy) / 2\n",
    "mpg[\"is_fuelefficient\"] = mpg.avg_mpg >= 30\n",
    "mpg.head()\n",
    "\n",
    "sample1 = mpg [mpg.is_fuelefficient & (mpg.year == 1999)].avg_mpg\n",
    "sample2 = mpg [mpg.is_fuelefficient & (mpg.year == 2008)].avg_mpg\n",
    "\n",
    "stats.ttest_ind(sample1,sample2)"
   ]
  },
  {
   "cell_type": "code",
   "execution_count": 143,
   "metadata": {},
   "outputs": [
    {
     "name": "stdout",
     "output_type": "stream",
     "text": [
      "the p value is greater than alpha, therefore, we fail to reject the null hypothesis\n"
     ]
    }
   ],
   "source": [
    "print(\"the p value is greater than alpha, therefore, we fail to reject the null hypothesis\")"
   ]
  },
  {
   "cell_type": "markdown",
   "metadata": {},
   "source": [
    "Are compact cars more fuel-efficient than the average car?"
   ]
  },
  {
   "cell_type": "code",
   "execution_count": 113,
   "metadata": {},
   "outputs": [
    {
     "data": {
      "text/plain": [
       "Ttest_indResult(statistic=6.731177612837954, pvalue=1.3059121585018135e-10)"
      ]
     },
     "execution_count": 113,
     "metadata": {},
     "output_type": "execute_result"
    }
   ],
   "source": [
    "mpg.head()\n",
    "\n",
    "sample3 = mpg [mpg[\"class\"] == \"compact\"].avg_mpg\n",
    "sample4 = mpg [mpg[\"class\"] != \"compact\"].avg_mpg\n",
    "\n",
    "stats.ttest_ind(sample3,sample4)"
   ]
  },
  {
   "cell_type": "code",
   "execution_count": 135,
   "metadata": {},
   "outputs": [
    {
     "name": "stdout",
     "output_type": "stream",
     "text": [
      "the p value is extremely low, therefore, we reject the null hypothesis\n"
     ]
    }
   ],
   "source": [
    "print(\"the p value is extremely low, therefore, we reject the null hypothesis\")"
   ]
  },
  {
   "cell_type": "markdown",
   "metadata": {},
   "source": [
    "Do manual cars get better gas mileage than automatic cars?"
   ]
  },
  {
   "cell_type": "code",
   "execution_count": 141,
   "metadata": {},
   "outputs": [
    {
     "data": {
      "text/plain": [
       "Ttest_indResult(statistic=-4.593437735750014, pvalue=7.154374401145683e-06)"
      ]
     },
     "execution_count": 141,
     "metadata": {},
     "output_type": "execute_result"
    }
   ],
   "source": [
    "mpg.head()\n",
    "\n",
    "sample5 = mpg [mpg[\"trans\"].str.startswith(\"auto\")].avg_mpg\n",
    "sample6 = mpg [mpg[\"trans\"].str.startswith(\"man\")].avg_mpg\n",
    "\n",
    "stats.ttest_ind(sample5,sample6)"
   ]
  },
  {
   "cell_type": "code",
   "execution_count": 137,
   "metadata": {},
   "outputs": [
    {
     "name": "stdout",
     "output_type": "stream",
     "text": [
      "the p value is extremely low, therefore, we reject the null hypothesis\n"
     ]
    }
   ],
   "source": [
    "print(\"the p value is extremely low, therefore, we reject the null hypothesis\")"
   ]
  },
  {
   "cell_type": "code",
   "execution_count": null,
   "metadata": {},
   "outputs": [],
   "source": []
  }
 ],
 "metadata": {
  "kernelspec": {
   "display_name": "Python 3",
   "language": "python",
   "name": "python3"
  },
  "language_info": {
   "codemirror_mode": {
    "name": "ipython",
    "version": 3
   },
   "file_extension": ".py",
   "mimetype": "text/x-python",
   "name": "python",
   "nbconvert_exporter": "python",
   "pygments_lexer": "ipython3",
   "version": "3.7.3"
  }
 },
 "nbformat": 4,
 "nbformat_minor": 2
}
