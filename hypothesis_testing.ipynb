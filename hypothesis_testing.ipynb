{
 "cells": [
  {
   "cell_type": "markdown",
   "metadata": {},
   "source": [
    "#### For each of the following questions, formulate a null and alternative hypothesis (be as specific as you can be), then give an example of what a true positive, true negative, type I and type II errors would look like."
   ]
  },
  {
   "cell_type": "markdown",
   "metadata": {},
   "source": [
    "Is the website redesign any good?\n",
    "\n",
    "rephrase to testable hypothesis: \n",
    "- Does the redesigned website have a higer click rate than before, which was 5%? \n",
    "\n",
    "null hypothesis: \n",
    "- The redesigned website has the same click rate as before, which was 5%.\n",
    "\n",
    "alternative hypothesis:\n",
    "- The redesigned website does not have a click rate of 5%\n",
    "\n",
    "true positive: (reject the null hypothesis and the null hypothesis is false)\n",
    "- the click rate isn't 5% (and it's not)\n",
    "\n",
    "true negative: (fail to reject the null hypothesis and the null hypothesis is true)\n",
    "- the click rate is 5% (and it is)\n",
    "\n",
    "type 1 error: (reject the null hypothesis and the the null hypothesis is true)\n",
    "- the click rate is not 5% (but it is) \n",
    "\n",
    "type 2 error: (accept the null hypothesis and the null hypothesis is false)\n",
    "- the click rate is 5% (but it's not)"
   ]
  },
  {
   "cell_type": "markdown",
   "metadata": {},
   "source": [
    "Is our television ad driving more sales?\n",
    "\n",
    "rephrase to testable hypothesis: \n",
    "- Does the redesigned website have a higer click rate than before, which was 5%? \n",
    "\n",
    "null hypothesis: \n",
    "- The redesigned website has the same click rate as before, which was 5%.\n",
    "\n",
    "alternative hypothesis:\n",
    "- The redesigned website does not have a click rate of 5%\n",
    "\n",
    "true positive: (reject the null hypothesis and the null hypothesis is false)\n",
    "- the click rate isn't 10% (and it's not)\n",
    "\n",
    "true negative: (fail to reject the null hypothesis and the null hypothesis is true)\n",
    "- the click rate is 10% (and it is)\n",
    "\n",
    "type 1 error: (reject the null hypothesis and the the null hypothesis is true)\n",
    "- the click rate is not 10% (but it is) \n",
    "\n",
    "type 2 error: (accept the null hypothesis and the null hypothesis is false)\n",
    "- the click rate is 10% (but it's not)"
   ]
  },
  {
   "cell_type": "code",
   "execution_count": null,
   "metadata": {},
   "outputs": [],
   "source": []
  },
  {
   "cell_type": "markdown",
   "metadata": {},
   "source": [
    "Has the network latency gone up since we switched internet service providers?\n",
    "\n",
    "rephrase to testable hypothesis: \n",
    "- Does the redesigned website have a higer click rate than before, which was 5%? \n",
    "\n",
    "null hypothesis: \n",
    "- The redesigned website has the same click rate as before, which was 5%.\n",
    "\n",
    "alternative hypothesis:\n",
    "- The redesigned website does not have a click rate of 5%\n",
    "\n",
    "true positive: (reject the null hypothesis and the null hypothesis is false)\n",
    "- the click rate isn't 10% (and it's not)\n",
    "\n",
    "true negative: (fail to reject the null hypothesis and the null hypothesis is true)\n",
    "- the click rate is 10% (and it is)\n",
    "\n",
    "type 1 error: (reject the null hypothesis and the the null hypothesis is true)\n",
    "- the click rate is not 10% (but it is) \n",
    "\n",
    "type 2 error: (accept the null hypothesis and the null hypothesis is false)\n",
    "- the click rate is 10% (but it's not)"
   ]
  },
  {
   "cell_type": "markdown",
   "metadata": {},
   "source": [
    "Ace Realty wants to determine whether the average time it takes to sell homes is different for its two offices. A sample of 40 sales from office #1 revealed a mean of 90 days and a standard deviation of 15 days. A sample of 50 sales from office #2 revealed a mean of 100 days and a standard deviation of 20 days. Use a .05 level of significance.\n",
    "\n",
    "Load the mpg dataset and use it to answer the following questions:\n",
    "\n",
    "Is there a difference in fuel-efficiency in cars from 2008 vs 1999?\n",
    "Are compact cars more fuel-efficient than the average car?\n",
    "Do manual cars get better gas mileage than automatic cars?"
   ]
  },
  {
   "cell_type": "code",
   "execution_count": null,
   "metadata": {},
   "outputs": [],
   "source": []
  }
 ],
 "metadata": {
  "kernelspec": {
   "display_name": "Python 3",
   "language": "python",
   "name": "python3"
  },
  "language_info": {
   "codemirror_mode": {
    "name": "ipython",
    "version": 3
   },
   "file_extension": ".py",
   "mimetype": "text/x-python",
   "name": "python",
   "nbconvert_exporter": "python",
   "pygments_lexer": "ipython3",
   "version": "3.7.3"
  }
 },
 "nbformat": 4,
 "nbformat_minor": 2
}
